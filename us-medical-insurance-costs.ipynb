{
 "cells": [
  {
   "cell_type": "markdown",
   "metadata": {},
   "source": [
    "# U.S. Medical Insurance Costs"
   ]
  },
  {
   "attachments": {},
   "cell_type": "markdown",
   "metadata": {},
   "source": [
    "### 1. Import insurance data and save to a dictionary"
   ]
  },
  {
   "cell_type": "code",
   "execution_count": 14,
   "metadata": {},
   "outputs": [],
   "source": [
    "import csv\n",
    "import statistics as st\n",
    "\n",
    "with open('insurance.csv') as insurance_csv:\n",
    "    insurance_csv_dict = csv.DictReader(insurance_csv)\n",
    "    \n",
    "    individual_dict = {}\n",
    "    id = 0\n",
    "    for row in insurance_csv_dict:\n",
    "        individual_dict[id] = row\n",
    "        id +=1"
   ]
  },
  {
   "attachments": {},
   "cell_type": "markdown",
   "metadata": {},
   "source": [
    "### 2. Separate categories into individual variables"
   ]
  },
  {
   "cell_type": "code",
   "execution_count": 15,
   "metadata": {},
   "outputs": [],
   "source": [
    "id_list, age_list, sex_list, bmi_list, children_list, smoker_list, region_list, cost_list = ([] for i in range(8))\n",
    "\n",
    "for id in individual_dict:\n",
    "    id_list.append(id)\n",
    "    age_list.append(individual_dict[id]['age'])\n",
    "    sex_list.append(individual_dict[id]['sex'])\n",
    "    bmi_list.append(individual_dict[id]['bmi'])\n",
    "    children_list.append(individual_dict[id]['children'])\n",
    "    smoker_list.append(individual_dict[id]['smoker'])\n",
    "    region_list.append(individual_dict[id]['region'])\n",
    "    cost_list.append(individual_dict[id]['charges'])"
   ]
  },
  {
   "attachments": {},
   "cell_type": "markdown",
   "metadata": {},
   "source": [
    "### 3. Analysis"
   ]
  },
  {
   "attachments": {},
   "cell_type": "markdown",
   "metadata": {},
   "source": [
    "#### Functions"
   ]
  },
  {
   "cell_type": "code",
   "execution_count": 21,
   "metadata": {},
   "outputs": [],
   "source": [
    "# def AgeCostComparision(ages, costs):\n",
    "#     for i in len(ages):\n",
    "#         if ages[i] < 25:\n",
    "\n",
    "# def SexCostComparision(sex_list, cost_list):\n",
    "#     numMale, numFemale, totalCostMale, totalCostFemale = (0 for i in range(4))\n",
    "#     for i in range(len(sex_list)):\n",
    "#         if sex_list[i] == 'male':\n",
    "#             numMale += 1\n",
    "#             totalCostMale += float(cost_list[i])\n",
    "#         elif sex_list[i] == 'female':\n",
    "#             numFemale += 1\n",
    "#             totalCostFemale += float(cost_list[i])\n",
    "#     avgCostMale = totalCostMale/numMale\n",
    "#     avgCostFemale = totalCostFemale/numFemale\n",
    "#     return numMale, numFemale, avgCostMale, avgCostFemale\n",
    "\n",
    "def SexComparision(individual_dict):\n",
    "    male_dict, female_dict = ({} for i in range(2))\n",
    "    male_id, female_id = (0 for i in range(2))\n",
    "    for id in individual_dict:\n",
    "        if individual_dict[id]['sex'] == 'male':\n",
    "            male_dict.update({male_id:{'id':id,\n",
    "                                    'age':individual_dict[id]['age'],\n",
    "                                    'bmi':individual_dict[id]['bmi'],\n",
    "                                    'children':individual_dict[id]['children'],\n",
    "                                    'smoker':individual_dict[id]['smoker'],\n",
    "                                    'region':individual_dict[id]['region'],\n",
    "                                    'charges':individual_dict[id]['charges']}})\n",
    "            male_id += 1\n",
    "        elif individual_dict[id]['sex'] == 'female':\n",
    "            female_dict.update({female_id:{'id':id,\n",
    "                                        'age':individual_dict[id]['age'],\n",
    "                                        'bmi':individual_dict[id]['bmi'],\n",
    "                                        'children':individual_dict[id]['children'],\n",
    "                                        'smoker':individual_dict[id]['smoker'],\n",
    "                                        'region':individual_dict[id]['region'],\n",
    "                                        'charges':individual_dict[id]['charges']}})\n",
    "            female_id += 1\n",
    "    return male_dict, female_dict\n",
    "\n",
    "def SmokerComparision(individual_dict):\n",
    "    smoker_dict, nonSmoker_dict = ({} for i in range(2))\n",
    "    smoker_id, nonSmoker_id = (0 for i in range(2))\n",
    "    for id in individual_dict:\n",
    "        if individual_dict[id]['smoker'] == 'yes':\n",
    "            smoker_dict.update({smoker_id:{'id':id,\n",
    "                                    'age':individual_dict[id]['age'],\n",
    "                                    'bmi':individual_dict[id]['bmi'],\n",
    "                                    'children':individual_dict[id]['children'],\n",
    "                                    'smoker':individual_dict[id]['smoker'],\n",
    "                                    'region':individual_dict[id]['region'],\n",
    "                                    'charges':individual_dict[id]['charges']}})\n",
    "            smoker_id += 1\n",
    "        elif individual_dict[id]['sex'] == 'female':\n",
    "            nonSmoker_dict.update({nonSmoker_id:{'id':id,\n",
    "                                        'age':individual_dict[id]['age'],\n",
    "                                        'bmi':individual_dict[id]['bmi'],\n",
    "                                        'children':individual_dict[id]['children'],\n",
    "                                        'smoker':individual_dict[id]['smoker'],\n",
    "                                        'region':individual_dict[id]['region'],\n",
    "                                        'charges':individual_dict[id]['charges']}})\n",
    "            nonSmoker_id += 1\n",
    "    return smoker_dict, nonSmoker_dict\n",
    "\n",
    "def getList(individual_dict,cat1,cat2):\n",
    "    if cat1 == cat2:\n",
    "        return print('Invalid: Can not compare the same categories to eachother')\n",
    "\n",
    "    # Determine which list to compare with category 1\n",
    "    if cat2 == 'age':\n",
    "        comparison_list = age_list\n",
    "    elif cat2 == 'sex':\n",
    "        comparison_list = sex_list\n",
    "    elif cat2 == 'bmi':\n",
    "        comparison_list = bmi_list\n",
    "    elif cat2 == 'children':\n",
    "        comparison_list = children_list\n",
    "    elif cat2 == 'smoker':\n",
    "        comparison_list = smoker_list\n",
    "    elif cat2 == 'region':\n",
    "        comparison_list = region_list\n",
    "    elif cat2 == 'charges':\n",
    "        comparison_list = cost_list\n",
    "    else:\n",
    "        return print('Category 2 is an invalid option')\n",
    "\n",
    "    # Determine how to compare category 1 with category 2\n",
    "    if cat1 == 'population':\n",
    "        getStatsComparison(individual_dict,'Total population', comparison_list, cat2)\n",
    "    elif cat1 == 'age':\n",
    "        pass\n",
    "    elif cat1 == 'sex':\n",
    "        male_dict, female_dict = SexComparision(individual_dict)\n",
    "        getStatsComparison(male_dict,'Male',comparison_list, cat2)\n",
    "        getStatsComparison(female_dict,'Female',comparison_list, cat2)\n",
    "    elif cat1 == 'bmi':\n",
    "        pass\n",
    "    elif cat1 == 'children':\n",
    "        pass\n",
    "    elif cat1 == 'smoker':\n",
    "        smoker_dict, nonSmoker_dict = SmokerComparision(individual_dict)\n",
    "        getStatsComparison(smoker_dict,'Smoker',comparison_list, cat2)\n",
    "        getStatsComparison(nonSmoker_dict,'Non-Smoker',comparison_list, cat2)\n",
    "    elif cat1 == 'region':\n",
    "        pass\n",
    "    elif cat1 == 'charges':\n",
    "        pass\n",
    "    else:\n",
    "        return print('Category 1 is an invalid option')\n",
    "\n",
    "def getStatsComparison(dictionary,identifier,comparison_list, cat2):\n",
    "    special_list = []\n",
    "    if identifier == 'Total population':\n",
    "        for id in range(len(dictionary)):\n",
    "            special_list.append(float(comparison_list[id]))\n",
    "    else:\n",
    "        for id in range(len(dictionary)):\n",
    "            special_list.append(float(comparison_list[dictionary[id]['id']]))\n",
    "    print(identifier,'average', cat2,':',st.mean(special_list))\n",
    "    print(identifier,'median', cat2,':',st.median(special_list))\n",
    "    print(identifier,'standard deviation of', cat2,':',st.stdev(special_list))\n",
    "\n",
    "    \n",
    "            "
   ]
  },
  {
   "attachments": {},
   "cell_type": "markdown",
   "metadata": {},
   "source": [
    "#### Results\n",
    "Are insurance costs on average more expensive for men or women?"
   ]
  },
  {
   "cell_type": "code",
   "execution_count": 22,
   "metadata": {},
   "outputs": [
    {
     "name": "stdout",
     "output_type": "stream",
     "text": [
      "Invalid: Can not compare the same categories to eachother\n",
      "Total population average age : 39.20702541106129\n",
      "Total population median age : 39.0\n",
      "Total population standard deviation of age : 14.049960379216156\n"
     ]
    }
   ],
   "source": [
    "getList(individual_dict=individual_dict,cat1='sex',cat2='sex')\n",
    "# getList(individual_dict=individual_dict,cat1='smoker',cat2='bmi')\n",
    "# getList(individual_dict=individual_dict,cat1='smoker',cat2='charges')\n",
    "# getList(individual_dict=individual_dict,cat1='sex',cat2='children')\n",
    "getList(individual_dict=individual_dict,cat1='population',cat2='age')"
   ]
  },
  {
   "attachments": {},
   "cell_type": "markdown",
   "metadata": {},
   "source": [
    "#### Age Statistics"
   ]
  },
  {
   "cell_type": "code",
   "execution_count": 18,
   "metadata": {},
   "outputs": [],
   "source": [
    "# male_age_list = []\n",
    "# for male_id in range(len(male_dict)):\n",
    "#     male_age_list.append(float(age_list[male_dict[male_id]['id']]))\n",
    "# print('Male average age:',st.mean(male_age_list))\n",
    "# print('Male median age:',st.median(male_age_list))\n",
    "# print('Male standard deviation of age:',st.stdev(male_age_list))\n",
    "\n",
    "# female_age_list = []\n",
    "# for female_id in range(len(female_dict)):\n",
    "#     female_age_list.append(float(age_list[female_dict[female_id]['id']]))\n",
    "# print('Female average age:',st.mean(female_age_list))\n",
    "# print('Female median age:',st.median(female_age_list))\n",
    "# print('Female standard deviation of age:',st.stdev(female_age_list))"
   ]
  },
  {
   "attachments": {},
   "cell_type": "markdown",
   "metadata": {},
   "source": [
    "#### Bmi Statistics"
   ]
  },
  {
   "cell_type": "code",
   "execution_count": 19,
   "metadata": {},
   "outputs": [],
   "source": [
    "# male_bmi_list = []\n",
    "# for male_id in range(len(male_dict)):\n",
    "#     male_bmi_list.append(float(bmi_list[male_dict[male_id]['id']]))\n",
    "# print('Male average bmi:',st.mean(male_bmi_list))\n",
    "# print('Male median bmi:',st.median(male_bmi_list))\n",
    "# print('Male standard deviation of bmi:',st.stdev(male_bmi_list))\n",
    "\n",
    "# female_bmi_list = []\n",
    "# for female_id in range(len(female_dict)):\n",
    "#     female_bmi_list.append(float(bmi_list[female_dict[female_id]['id']]))\n",
    "# print('Female average bmi:',st.mean(female_bmi_list))\n",
    "# print('Female median bmi:',st.median(female_bmi_list))\n",
    "# print('Female standard deviation of bmi:',st.stdev(female_bmi_list))"
   ]
  },
  {
   "attachments": {},
   "cell_type": "markdown",
   "metadata": {},
   "source": [
    "It would appear that insurance costs are on average more expensive for men. Maybe we should check the mean and varaince."
   ]
  }
 ],
 "metadata": {
  "kernelspec": {
   "display_name": "Python 3",
   "language": "python",
   "name": "python3"
  },
  "language_info": {
   "codemirror_mode": {
    "name": "ipython",
    "version": 3
   },
   "file_extension": ".py",
   "mimetype": "text/x-python",
   "name": "python",
   "nbconvert_exporter": "python",
   "pygments_lexer": "ipython3",
   "version": "3.11.1"
  }
 },
 "nbformat": 4,
 "nbformat_minor": 4
}
